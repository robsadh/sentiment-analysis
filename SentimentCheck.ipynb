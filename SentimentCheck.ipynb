{
 "cells": [
  {
   "cell_type": "code",
   "execution_count": 148,
   "metadata": {},
   "outputs": [
    {
     "data": {
      "text/plain": [
       "True"
      ]
     },
     "execution_count": 148,
     "metadata": {},
     "output_type": "execute_result"
    }
   ],
   "source": [
    "from textblob import TextBlob, Word, Blobber\n",
    "from textblob.classifiers import NaiveBayesClassifier\n",
    "from textblob.taggers import NLTKTagger\n",
    "b = TextBlob(\"I m apologising 2 every1 who's sentiments r hurt bcz of d chaos around my memoir #AnOrdinaryLife I hereby regret & decide 2 withdraw my book\")\n",
    "from textblob import Blobber\n",
    "from textblob.taggers import NLTKTagger\n",
    "from textblob.tokenizers import SentenceTokenizer\n",
    "tb = Blobber(pos_tagger=NLTKTagger(), tokenizer=SentenceTokenizer())\n",
    "blob1 = tb(\"This is one blob.\")\n",
    "blob2 = tb(\"This blob has the same tagger and tokenizer.\")\n",
    "blob1.pos_tagger is blob2.pos_tagger"
   ]
  },
  {
   "cell_type": "code",
   "execution_count": 149,
   "metadata": {},
   "outputs": [
    {
     "data": {
      "text/plain": [
       "[('I', u'PRP'),\n",
       " ('m', u'VBP'),\n",
       " ('apologising', u'VBG'),\n",
       " ('2', u'CD'),\n",
       " ('every1', u'NN'),\n",
       " ('who', u'WP'),\n",
       " (\"'s\", u'VBZ'),\n",
       " ('sentiments', u'NNS'),\n",
       " ('r', u'JJ'),\n",
       " ('hurt', u'VBD'),\n",
       " ('bcz', u'NN'),\n",
       " ('of', u'IN'),\n",
       " ('d', u'JJ'),\n",
       " ('chaos', u'NN'),\n",
       " ('around', u'IN'),\n",
       " ('my', u'PRP$'),\n",
       " ('memoir', u'NN'),\n",
       " ('AnOrdinaryLife', u'NNP'),\n",
       " ('I', u'PRP'),\n",
       " ('hereby', u'VBP'),\n",
       " ('regret', u'JJ'),\n",
       " ('&', u'CC'),\n",
       " ('decide', u'JJ'),\n",
       " ('2', u'CD'),\n",
       " ('withdraw', u'JJ'),\n",
       " ('my', u'PRP$'),\n",
       " ('book', u'NN')]"
      ]
     },
     "execution_count": 149,
     "metadata": {},
     "output_type": "execute_result"
    }
   ],
   "source": [
    "b.tags\n"
   ]
  },
  {
   "cell_type": "markdown",
   "metadata": {},
   "source": []
  },
  {
   "cell_type": "code",
   "execution_count": 150,
   "metadata": {},
   "outputs": [
    {
     "data": {
      "text/plain": [
       "0.0"
      ]
     },
     "execution_count": 150,
     "metadata": {},
     "output_type": "execute_result"
    }
   ],
   "source": [
    "b.sentiment.polarity"
   ]
  },
  {
   "cell_type": "code",
   "execution_count": 151,
   "metadata": {},
   "outputs": [
    {
     "data": {
      "text/plain": [
       "<bound method TextBlob.correct of TextBlob(\"I m apologising 2 every1 who's sentiments r hurt bcz of d chaos around my memoir #AnOrdinaryLife I hereby regret & decide 2 withdraw my book\")>"
      ]
     },
     "execution_count": 151,
     "metadata": {},
     "output_type": "execute_result"
    }
   ],
   "source": [
    "b.correct"
   ]
  },
  {
   "cell_type": "code",
   "execution_count": 152,
   "metadata": {},
   "outputs": [
    {
     "data": {
      "text/plain": [
       "<textblob.en.sentiments.PatternAnalyzer at 0xce61d68>"
      ]
     },
     "execution_count": 152,
     "metadata": {},
     "output_type": "execute_result"
    }
   ],
   "source": [
    "b.analyzer"
   ]
  },
  {
   "cell_type": "code",
   "execution_count": 153,
   "metadata": {},
   "outputs": [
    {
     "data": {
      "text/plain": [
       "textblob.blob.TextBlob"
      ]
     },
     "execution_count": 153,
     "metadata": {},
     "output_type": "execute_result"
    }
   ],
   "source": [
    "b.parse.im_class"
   ]
  },
  {
   "cell_type": "code",
   "execution_count": 154,
   "metadata": {},
   "outputs": [
    {
     "data": {
      "text/plain": [
       "<function capitalize>"
      ]
     },
     "execution_count": 154,
     "metadata": {},
     "output_type": "execute_result"
    }
   ],
   "source": [
    "b.json.capitalize"
   ]
  },
  {
   "cell_type": "code",
   "execution_count": 155,
   "metadata": {},
   "outputs": [
    {
     "data": {
      "text/plain": [
       "WordList([u\"'s sentiments r hurt bcz\", u'd chaos', u'memoir #', 'anordinarylife', u'hereby regret'])"
      ]
     },
     "execution_count": 155,
     "metadata": {},
     "output_type": "execute_result"
    }
   ],
   "source": [
    "b.noun_phrases"
   ]
  },
  {
   "cell_type": "code",
   "execution_count": 156,
   "metadata": {},
   "outputs": [
    {
     "data": {
      "text/plain": [
       "<textblob.tokenizers.WordTokenizer at 0xce61cf8>"
      ]
     },
     "execution_count": 156,
     "metadata": {},
     "output_type": "execute_result"
    }
   ],
   "source": [
    "b.tokenizer"
   ]
  },
  {
   "cell_type": "code",
   "execution_count": 157,
   "metadata": {},
   "outputs": [
    {
     "data": {
      "text/plain": [
       "defaultdict(int,\n",
       "            {u\"'s sentiments r hurt bcz\": 1,\n",
       "             'anordinarylife': 1,\n",
       "             u'd chaos': 1,\n",
       "             u'hereby regret': 1,\n",
       "             u'memoir #': 1})"
      ]
     },
     "execution_count": 157,
     "metadata": {},
     "output_type": "execute_result"
    }
   ],
   "source": [
    "b.np_counts"
   ]
  },
  {
   "cell_type": "code",
   "execution_count": 158,
   "metadata": {},
   "outputs": [
    {
     "data": {
      "text/plain": [
       "<textblob.en.np_extractors.FastNPExtractor at 0xce61c50>"
      ]
     },
     "execution_count": 158,
     "metadata": {},
     "output_type": "execute_result"
    }
   ],
   "source": [
    "b.np_extractor"
   ]
  },
  {
   "cell_type": "code",
   "execution_count": 176,
   "metadata": {},
   "outputs": [
    {
     "data": {
      "text/plain": [
       "u'en'"
      ]
     },
     "execution_count": 176,
     "metadata": {},
     "output_type": "execute_result"
    }
   ],
   "source": [
    "b.detect_language()"
   ]
  },
  {
   "cell_type": "code",
   "execution_count": 177,
   "metadata": {},
   "outputs": [
    {
     "data": {
      "text/plain": [
       "TextBlob(\"I m apologising 2 every1 who's sentiments r hurt bcz of d chaos around my memoir #AnOrdinaryLife I hereby regret & decide 2 withdraw my book\")"
      ]
     },
     "execution_count": 177,
     "metadata": {},
     "output_type": "execute_result"
    }
   ],
   "source": [
    "b.format()"
   ]
  },
  {
   "cell_type": "code",
   "execution_count": 178,
   "metadata": {},
   "outputs": [
    {
     "data": {
      "text/plain": [
       "[('I', u'PRP'),\n",
       " ('m', u'VBP'),\n",
       " ('apologising', u'VBG'),\n",
       " ('2', u'CD'),\n",
       " ('every1', u'NN'),\n",
       " ('who', u'WP'),\n",
       " (\"'s\", u'VBZ'),\n",
       " ('sentiments', u'NNS'),\n",
       " ('r', u'JJ'),\n",
       " ('hurt', u'VBD'),\n",
       " ('bcz', u'NN'),\n",
       " ('of', u'IN'),\n",
       " ('d', u'JJ'),\n",
       " ('chaos', u'NN'),\n",
       " ('around', u'IN'),\n",
       " ('my', u'PRP$'),\n",
       " ('memoir', u'NN'),\n",
       " ('AnOrdinaryLife', u'NNP'),\n",
       " ('I', u'PRP'),\n",
       " ('hereby', u'VBP'),\n",
       " ('regret', u'JJ'),\n",
       " ('&', u'CC'),\n",
       " ('decide', u'JJ'),\n",
       " ('2', u'CD'),\n",
       " ('withdraw', u'JJ'),\n",
       " ('my', u'PRP$'),\n",
       " ('book', u'NN')]"
      ]
     },
     "execution_count": 178,
     "metadata": {},
     "output_type": "execute_result"
    }
   ],
   "source": [
    "b.pos_tags"
   ]
  },
  {
   "cell_type": "code",
   "execution_count": 179,
   "metadata": {},
   "outputs": [
    {
     "data": {
      "text/plain": [
       "0.0"
      ]
     },
     "execution_count": 179,
     "metadata": {},
     "output_type": "execute_result"
    }
   ],
   "source": [
    "b.subjectivity"
   ]
  },
  {
   "cell_type": "code",
   "execution_count": 180,
   "metadata": {},
   "outputs": [
    {
     "data": {
      "text/plain": [
       "WordList(['I', 'm', 'apologising', '2', 'every1', \"who's\", 'sentiments', 'r', 'hurt', 'bcz', 'of', 'd', 'chaos', 'around', 'my', 'memoir', '#AnOrdinaryLife', 'I', 'hereby', 'regret', '&', 'decide', '2', 'withdraw', 'my', 'book'])"
      ]
     },
     "execution_count": 180,
     "metadata": {},
     "output_type": "execute_result"
    }
   ],
   "source": [
    "b.split(sep=None, maxsplit=9223372036854775807)"
   ]
  },
  {
   "cell_type": "code",
   "execution_count": 181,
   "metadata": {},
   "outputs": [
    {
     "data": {
      "text/plain": [
       "<bound method TextBlob.strip of TextBlob(\"I m apologising 2 every1 who's sentiments r hurt bcz of d chaos around my memoir #AnOrdinaryLife I hereby regret & decide 2 withdraw my book\")>"
      ]
     },
     "execution_count": 181,
     "metadata": {},
     "output_type": "execute_result"
    }
   ],
   "source": [
    "b.strip"
   ]
  },
  {
   "cell_type": "code",
   "execution_count": 182,
   "metadata": {},
   "outputs": [
    {
     "data": {
      "text/plain": [
       "<bound method TextBlob.tokenize of TextBlob(\"I m apologising 2 every1 who's sentiments r hurt bcz of d chaos around my memoir #AnOrdinaryLife I hereby regret & decide 2 withdraw my book\")>"
      ]
     },
     "execution_count": 182,
     "metadata": {},
     "output_type": "execute_result"
    }
   ],
   "source": [
    "b.tokenize"
   ]
  },
  {
   "cell_type": "code",
   "execution_count": 183,
   "metadata": {},
   "outputs": [
    {
     "data": {
      "text/plain": [
       "WordList(['I', 'm', 'apologising', '2', 'every1', 'who', \"'s\", 'sentiments', 'r', 'hurt', 'bcz', 'of', 'd', 'chaos', 'around', 'my', 'memoir', '#', 'AnOrdinaryLife', 'I', 'hereby', 'regret', '&', 'decide', '2', 'withdraw', 'my', 'book'])"
      ]
     },
     "execution_count": 183,
     "metadata": {},
     "output_type": "execute_result"
    }
   ],
   "source": [
    "b.tokens\n"
   ]
  },
  {
   "cell_type": "code",
   "execution_count": 184,
   "metadata": {},
   "outputs": [
    {
     "data": {
      "text/plain": [
       "TextBlob(\"Je m'excuse 2 tous les sentiments qui sont blessés bcz de chaos autour de mon mémoire #AnOrdinaryLife Je regrette et décide 2 retirer mon livre\")"
      ]
     },
     "execution_count": 184,
     "metadata": {},
     "output_type": "execute_result"
    }
   ],
   "source": [
    "b.translate(from_lang=u'en', to=u'fr')"
   ]
  },
  {
   "cell_type": "code",
   "execution_count": 185,
   "metadata": {},
   "outputs": [
    {
     "data": {
      "text/plain": [
       "<bound method TextBlob.upper of TextBlob(\"I m apologising 2 every1 who's sentiments r hurt bcz of d chaos around my memoir #AnOrdinaryLife I hereby regret & decide 2 withdraw my book\")>"
      ]
     },
     "execution_count": 185,
     "metadata": {},
     "output_type": "execute_result"
    }
   ],
   "source": [
    "b.upper"
   ]
  },
  {
   "cell_type": "code",
   "execution_count": 186,
   "metadata": {},
   "outputs": [
    {
     "data": {
      "text/plain": [
       "TextBlob(\"Me estoy disculpando 2 cada1 que tiene sentimientos heridos por el caos alrededor de mis memorias #AnOrdinaryLife Por la presente me arrepiento y decido 2 retirar mi libro\")"
      ]
     },
     "execution_count": 186,
     "metadata": {},
     "output_type": "execute_result"
    }
   ],
   "source": [
    "b.translate(from_lang=u'en', to=u'es')"
   ]
  },
  {
   "cell_type": "code",
   "execution_count": 187,
   "metadata": {},
   "outputs": [
    {
     "data": {
      "text/plain": [
       "defaultdict(int,\n",
       "            {u'2': 2,\n",
       "             u'anordinarylife': 1,\n",
       "             u'apologising': 1,\n",
       "             u'around': 1,\n",
       "             u'bcz': 1,\n",
       "             u'book': 1,\n",
       "             u'chaos': 1,\n",
       "             u'd': 1,\n",
       "             u'decide': 1,\n",
       "             u'every1': 1,\n",
       "             u'hereby': 1,\n",
       "             u'hurt': 1,\n",
       "             u'i': 2,\n",
       "             u'm': 1,\n",
       "             u'memoir': 1,\n",
       "             u'my': 2,\n",
       "             u'of': 1,\n",
       "             u'r': 1,\n",
       "             u'regret': 1,\n",
       "             u's': 1,\n",
       "             u'sentiments': 1,\n",
       "             u'who': 1,\n",
       "             u'withdraw': 1})"
      ]
     },
     "execution_count": 187,
     "metadata": {},
     "output_type": "execute_result"
    }
   ],
   "source": [
    "b.word_counts"
   ]
  },
  {
   "cell_type": "code",
   "execution_count": 188,
   "metadata": {},
   "outputs": [
    {
     "data": {
      "text/plain": [
       "WordList(['I', 'm', 'apologising', '2', 'every1', 'who', \"'s\", 'sentiments', 'r', 'hurt', 'bcz', 'of', 'd', 'chaos', 'around', 'my', 'memoir', 'AnOrdinaryLife', 'I', 'hereby', 'regret', 'decide', '2', 'withdraw', 'my', 'book'])"
      ]
     },
     "execution_count": 188,
     "metadata": {},
     "output_type": "execute_result"
    }
   ],
   "source": [
    "b.words"
   ]
  },
  {
   "cell_type": "code",
   "execution_count": 189,
   "metadata": {},
   "outputs": [
    {
     "data": {
      "text/plain": [
       "u'en'"
      ]
     },
     "execution_count": 189,
     "metadata": {},
     "output_type": "execute_result"
    }
   ],
   "source": [
    "b.detect_language()\n"
   ]
  },
  {
   "cell_type": "code",
   "execution_count": 191,
   "metadata": {},
   "outputs": [
    {
     "data": {
      "text/plain": [
       "TextBlob(\"I m apologising 2 every1 who's sentiments r hurt bcz of d chaos around my memoir #AnOrdinaryLife I hereby regret & decide 2 withdraw my book\")"
      ]
     },
     "execution_count": 191,
     "metadata": {},
     "output_type": "execute_result"
    }
   ],
   "source": [
    "b.strip()"
   ]
  },
  {
   "cell_type": "code",
   "execution_count": null,
   "metadata": {
    "collapsed": true
   },
   "outputs": [],
   "source": []
  }
 ],
 "metadata": {
  "kernelspec": {
   "display_name": "Python 2",
   "language": "python",
   "name": "python2"
  }
 },
 "nbformat": 4,
 "nbformat_minor": 2
}
